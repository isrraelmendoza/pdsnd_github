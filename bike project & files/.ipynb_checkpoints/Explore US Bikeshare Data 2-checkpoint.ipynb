{
 "cells": [
  {
   "cell_type": "code",
   "execution_count": 1,
   "id": "0fec55ca",
   "metadata": {},
   "outputs": [],
   "source": [
    "import time\n",
    "import pandas as pd\n",
    "import numpy as np"
   ]
  },
  {
   "cell_type": "code",
   "execution_count": 2,
   "id": "dc6652a5",
   "metadata": {},
   "outputs": [],
   "source": [
    "CITY_DATA = {'chicago': 'chicago.csv',\n",
    "            'new york': 'new_york_city.csv',\n",
    "            'washington': 'washington.csv'}\n",
    "\n",
    "#lists for month and day to check user input validity\n",
    "month_list=['jaunuary','february','march','april','may','june','all']\n",
    "weekday_list=['sunday','monday','tuesday','wednesday','thursday','friday','saturday','all']"
   ]
  },
  {
   "cell_type": "code",
   "execution_count": null,
   "id": "af7ac15a",
   "metadata": {},
   "outputs": [],
   "source": []
  }
 ],
 "metadata": {
  "kernelspec": {
   "display_name": "Python 3 (ipykernel)",
   "language": "python",
   "name": "python3"
  },
  "language_info": {
   "codemirror_mode": {
    "name": "ipython",
    "version": 3
   },
   "file_extension": ".py",
   "mimetype": "text/x-python",
   "name": "python",
   "nbconvert_exporter": "python",
   "pygments_lexer": "ipython3",
   "version": "3.9.12"
  }
 },
 "nbformat": 4,
 "nbformat_minor": 5
}
